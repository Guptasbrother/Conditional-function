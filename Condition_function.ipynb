{
 "cells": [
  {
   "cell_type": "markdown",
   "metadata": {},
   "source": [
    "### (1) CREATE PIRAMIDS\n",
    "* *Build a pyramid using ZERO (0)*"
   ]
  },
  {
   "cell_type": "code",
   "execution_count": 2,
   "metadata": {},
   "outputs": [
    {
     "name": "stdout",
     "output_type": "stream",
     "text": [
      "      0\n",
      "     000\n",
      "    00000\n",
      "   0000000\n",
      "  000000000\n",
      " 00000000000\n"
     ]
    }
   ],
   "source": [
    "\n",
    "def Create_pyramid(R):\n",
    "    for i in range(1,R):\n",
    "        print(' ' * (R - i) + '0' * (2 * i - 1))\n",
    "\n",
    "\n",
    "R = 7\n",
    "Create_pyramid(R)\n"
   ]
  },
  {
   "cell_type": "markdown",
   "metadata": {},
   "source": [
    "### (2) MATHS OPRATION\n",
    "* *Using Function and condition* "
   ]
  },
  {
   "cell_type": "code",
   "execution_count": 41,
   "metadata": {},
   "outputs": [
    {
     "name": "stdout",
     "output_type": "stream",
     "text": [
      "total_addition = 4000\n",
      "total_subtraction = 5000\n",
      "total_multiplication = 15000\n",
      "total_division = 2000.0\n"
     ]
    }
   ],
   "source": [
    "def CALCULATION_VALUE (val_A,val_B, TOTAL):\n",
    "    result = val_A + val_B\n",
    "    result1 = val_A - val_B\n",
    "    result2 = val_A * val_B\n",
    "    result3 = val_A / val_B\n",
    "\n",
    "    if TOTAL == 'addition':\n",
    "        return result\n",
    "    \n",
    "    elif TOTAL == 'subtraction':\n",
    "        return result1\n",
    "    \n",
    "    elif TOTAL == 'multiplication':\n",
    "        return result2\n",
    "    \n",
    "    elif TOTAL == 'division':\n",
    "        return result3\n",
    "    \n",
    "    else:\n",
    "        return 'total not define'\n",
    "    \n",
    "\n",
    "addition = CALCULATION_VALUE(1000,3000,'addition')\n",
    "subtraction = CALCULATION_VALUE(7500,2500,'subtraction')\n",
    "multiplication = CALCULATION_VALUE(50,300,'multiplication')\n",
    "division = CALCULATION_VALUE ( 40000,20,'division')\n",
    "\n",
    "\n",
    "print(f'total_addition = {addition}')\n",
    "print(f'total_subtraction = {subtraction}')\n",
    "print(f'total_multiplication = {multiplication}')\n",
    "print(f'total_division = {division}')"
   ]
  }
 ],
 "metadata": {
  "kernelspec": {
   "display_name": "Python 3",
   "language": "python",
   "name": "python3"
  },
  "language_info": {
   "codemirror_mode": {
    "name": "ipython",
    "version": 3
   },
   "file_extension": ".py",
   "mimetype": "text/x-python",
   "name": "python",
   "nbconvert_exporter": "python",
   "pygments_lexer": "ipython3",
   "version": "3.12.4"
  }
 },
 "nbformat": 4,
 "nbformat_minor": 2
}
